{
 "cells": [
  {
   "cell_type": "code",
   "execution_count": 111,
   "id": "27002b4b-567a-4694-a466-98e1e822a682",
   "metadata": {},
   "outputs": [],
   "source": [
    "import pandas as pd\n",
    "import numpy as np\n",
    "from sklearn.model_selection import train_test_split\n",
    "from sklearn.ensemble import RandomForestRegressor\n",
    "from sklearn.metrics import mean_absolute_error, mean_squared_error, r2_score\n",
    "import joblib\n",
    "from sklearn.compose import ColumnTransformer\n",
    "from sklearn.preprocessing import OneHotEncoder\n",
    "from sklearn.pipeline import Pipeline,make_pipeline\n",
    "from sklearn.linear_model import LinearRegression"
   ]
  },
  {
   "cell_type": "code",
   "execution_count": null,
   "id": "01b63e77",
   "metadata": {},
   "outputs": [
    {
     "data": {
      "text/plain": [
       "(45593, 11)"
      ]
     },
     "execution_count": 112,
     "metadata": {},
     "output_type": "execute_result"
    }
   ],
   "source": [
    "df = pd.read_csv('deliverytime.csv')"
   ]
  },
  {
   "cell_type": "code",
   "execution_count": null,
   "id": "ddf8c436",
   "metadata": {},
   "outputs": [
    {
     "data": {
      "text/html": [
       "<div>\n",
       "<style scoped>\n",
       "    .dataframe tbody tr th:only-of-type {\n",
       "        vertical-align: middle;\n",
       "    }\n",
       "\n",
       "    .dataframe tbody tr th {\n",
       "        vertical-align: top;\n",
       "    }\n",
       "\n",
       "    .dataframe thead th {\n",
       "        text-align: right;\n",
       "    }\n",
       "</style>\n",
       "<table border=\"1\" class=\"dataframe\">\n",
       "  <thead>\n",
       "    <tr style=\"text-align: right;\">\n",
       "      <th></th>\n",
       "      <th>Delivery_person_Age</th>\n",
       "      <th>Delivery_person_Ratings</th>\n",
       "      <th>Type_of_order</th>\n",
       "      <th>Type_of_vehicle</th>\n",
       "      <th>Time_taken(min)</th>\n",
       "      <th>distance</th>\n",
       "    </tr>\n",
       "  </thead>\n",
       "  <tbody>\n",
       "    <tr>\n",
       "      <th>6251</th>\n",
       "      <td>32</td>\n",
       "      <td>5.0</td>\n",
       "      <td>Snack</td>\n",
       "      <td>motorcycle</td>\n",
       "      <td>28</td>\n",
       "      <td>13</td>\n",
       "    </tr>\n",
       "    <tr>\n",
       "      <th>3527</th>\n",
       "      <td>25</td>\n",
       "      <td>4.5</td>\n",
       "      <td>Buffet</td>\n",
       "      <td>electric_scooter</td>\n",
       "      <td>16</td>\n",
       "      <td>5</td>\n",
       "    </tr>\n",
       "    <tr>\n",
       "      <th>4208</th>\n",
       "      <td>27</td>\n",
       "      <td>4.6</td>\n",
       "      <td>Meal</td>\n",
       "      <td>scooter</td>\n",
       "      <td>18</td>\n",
       "      <td>6</td>\n",
       "    </tr>\n",
       "    <tr>\n",
       "      <th>5876</th>\n",
       "      <td>35</td>\n",
       "      <td>4.8</td>\n",
       "      <td>Snack</td>\n",
       "      <td>motorcycle</td>\n",
       "      <td>17</td>\n",
       "      <td>6</td>\n",
       "    </tr>\n",
       "    <tr>\n",
       "      <th>9701</th>\n",
       "      <td>31</td>\n",
       "      <td>4.9</td>\n",
       "      <td>Drinks</td>\n",
       "      <td>scooter</td>\n",
       "      <td>25</td>\n",
       "      <td>11</td>\n",
       "    </tr>\n",
       "  </tbody>\n",
       "</table>\n",
       "</div>"
      ],
      "text/plain": [
       "      Delivery_person_Age  Delivery_person_Ratings Type_of_order  \\\n",
       "6251                   32                      5.0        Snack    \n",
       "3527                   25                      4.5       Buffet    \n",
       "4208                   27                      4.6         Meal    \n",
       "5876                   35                      4.8        Snack    \n",
       "9701                   31                      4.9       Drinks    \n",
       "\n",
       "        Type_of_vehicle  Time_taken(min)  distance  \n",
       "6251        motorcycle                28        13  \n",
       "3527  electric_scooter                16         5  \n",
       "4208           scooter                18         6  \n",
       "5876        motorcycle                17         6  \n",
       "9701           scooter                25        11  "
      ]
     },
     "execution_count": 114,
     "metadata": {},
     "output_type": "execute_result"
    }
   ],
   "source": [
    "df = df.loc[:, ['Delivery_person_Age', 'Delivery_person_Ratings','Type_of_order','Type_of_vehicle','Time_taken(min)']]\n",
    "\n",
    "# Generate 'distance' using a proportional scaling approach\n",
    "# Min-Max Scaling to Map Time to Distance \n",
    "df['distance'] = (df['Time_taken(min)'] - df['Time_taken(min)'].min()) / (df['Time_taken(min)'].max() - df['Time_taken(min)'].min()) * 30 + 1\n",
    "\n",
    "# Round to integer values\n",
    "df['distance'] = df['distance'].round().astype(int)\n",
    "\n",
    "df.sample(5)"
   ]
  },
  {
   "cell_type": "code",
   "execution_count": null,
   "id": "0e19b906-1cdd-446e-b494-dac95bbc5ac9",
   "metadata": {},
   "outputs": [],
   "source": [
    "cat_col = columns=['Type_of_order', 'Type_of_vehicle']\n",
    "\n",
    "trf1 = ColumnTransformer([\n",
    "    ('ohe',OneHotEncoder(sparse_output=False,handle_unknown='ignore'),cat_col)\n",
    "],remainder='passthrough')\n",
    "\n",
    "trf2 = LinearRegression()\n",
    "\n",
    "pipe = Pipeline([\n",
    "    ('trf1',trf1),\n",
    "    ('trf2',trf2)\n",
    "])\n",
    "\n",
    "# Separate features and target\n",
    "X = df.drop('Time_taken(min)', axis=1)\n",
    "y = df['Time_taken(min)']\n",
    "\n",
    "# Train-test split\n",
    "X_train, X_test, y_train, y_test = train_test_split(X, y, test_size=0.2, random_state=42)\n",
    "\n",
    "pipe.fit(X_train,y_train)\n",
    "y_pred = pipe.predict(X_test)"
   ]
  },
  {
   "cell_type": "code",
   "execution_count": null,
   "id": "f7b7fb2c",
   "metadata": {},
   "outputs": [
    {
     "name": "stdout",
     "output_type": "stream",
     "text": [
      "MAE: 0.3549180485113137\n",
      "MSE: 0.17015384286392796\n",
      "R2 Score: 0.9980593355514586\n"
     ]
    }
   ],
   "source": [
    "# Evaluate the model\n",
    "mae = mean_absolute_error(y_test, y_pred)\n",
    "mse = mean_squared_error(y_test, y_pred)\n",
    "r2 = r2_score(y_test, y_pred)\n",
    "\n",
    "print(f'MAE: {mae}')\n",
    "print(f'MSE: {mse}')\n",
    "print(f'R2 Score: {r2}')\n"
   ]
  },
  {
   "cell_type": "code",
   "execution_count": 117,
   "id": "6b6f3852",
   "metadata": {},
   "outputs": [
    {
     "name": "stdout",
     "output_type": "stream",
     "text": [
      "Model saved as 'timelytics_model.pkl'\n"
     ]
    }
   ],
   "source": [
    "# Save the trained model using joblib\n",
    "joblib.dump(pipe, 'timelytics_model.pkl')\n",
    "print(\"Model saved as 'timelytics_model.pkl'\")\n"
   ]
  }
 ],
 "metadata": {
  "kernelspec": {
   "display_name": "ai4mfg_env",
   "language": "python",
   "name": "python3"
  },
  "language_info": {
   "codemirror_mode": {
    "name": "ipython",
    "version": 3
   },
   "file_extension": ".py",
   "mimetype": "text/x-python",
   "name": "python",
   "nbconvert_exporter": "python",
   "pygments_lexer": "ipython3",
   "version": "3.10.13"
  }
 },
 "nbformat": 4,
 "nbformat_minor": 5
}
